{
 "cells": [
  {
   "cell_type": "code",
   "execution_count": 80,
   "id": "b88f4740",
   "metadata": {},
   "outputs": [
    {
     "name": "stdout",
     "output_type": "stream",
     "text": [
      "  Entity  Year  Annual CO2 growth (abs)\n",
      "0   Asia  1900                5368233.0\n",
      "1   Asia  1901                6386427.0\n",
      "2   Asia  1902                2108363.0\n",
      "3   Asia  1903                4504743.0\n",
      "4   Asia  1904                7070999.0\n",
      "1386\n"
     ]
    }
   ],
   "source": [
    "import pandas as pd\n",
    "\n",
    "climate_data = pd.read_csv('absolute-change-co2.csv')\n",
    "climate_data = climate_data[climate_data['Year'] >= 1900]\n",
    "countries = ['Asia', 'China', 'Africa', 'Sweden', 'Australia', 'South America', 'Angola', 'India', 'New Zealand', 'United States', 'Europe', 'North America']\n",
    "country_dfs = []\n",
    "for i in range(len(countries)):\n",
    "    country_i = climate_data.loc[climate_data['Entity'] == countries[i]]\n",
    "    country_dfs.append(country_i)\n",
    "climate_data = pd.concat(country_dfs)\n",
    "climate_data.reset_index(inplace = True)\n",
    "climate_data.drop(columns = ['index', 'Code'], inplace = True)\n",
    "climate_data = climate_data.dropna()\n",
    "print(climate_data.head())\n",
    "print(len(climate_data))\n"
   ]
  },
  {
   "cell_type": "code",
   "execution_count": 81,
   "id": "5a9681b2",
   "metadata": {},
   "outputs": [
    {
     "name": "stdout",
     "output_type": "stream",
     "text": [
      "  Entity    Year  Annual CO2 growth (abs)  Per capita CO2 emissions\n",
      "0   Asia  1900.0                5368233.0                  0.049638\n",
      "1   Asia  1901.0                6386427.0                  0.056336\n",
      "2   Asia  1902.0                2108363.0                  0.058283\n",
      "3   Asia  1903.0                4504743.0                  0.062798\n",
      "4   Asia  1904.0                7070999.0                  0.070017\n"
     ]
    }
   ],
   "source": [
    "climate_per_capita = pd.read_csv('co-emissions-per-capita.csv')\n",
    "climate_per_capita = climate_per_capita[climate_per_capita['Year'] >= 1900]\n",
    "countries = ['Asia', 'China', 'Africa', 'Sweden', 'Australia', 'South America', 'Angola', 'India', 'New Zealand', 'United States', 'Europe', 'North America']\n",
    "country_dfs = []\n",
    "for i in range(len(countries)):\n",
    "    country_i = climate_per_capita.loc[climate_per_capita['Entity'] == countries[i]]\n",
    "    country_dfs.append(country_i)\n",
    "climate_per_capita = pd.concat(country_dfs)\n",
    "climate_per_capita.reset_index(inplace = True)\n",
    "climate_per_capita.drop(columns = ['index', 'Code'], inplace = True)\n",
    "# climate_per_capita = climate_per_capita.dropna()\n",
    "\n",
    "per_cap_series = pd.Series(climate_per_capita['Per capita CO2 emissions'], name='Per capita CO2 emissions')\n",
    "total_data = pd.concat([climate_data, per_cap_series], axis=1)\n",
    "print(total_data.head())\n",
    "len(total_data)\n",
    "oxford_climate_data = total_data.to_csv(path_or_buf = '/Users/samuelembry/Downloads/oxford_climate_data')"
   ]
  },
  {
   "cell_type": "code",
   "execution_count": 83,
   "id": "9f856398",
   "metadata": {},
   "outputs": [
    {
     "name": "stdout",
     "output_type": "stream",
     "text": [
      "  Entity    Year  Annual CO2 growth (abs)  Per capita CO2 emissions\n",
      "0   Asia  1900.0                5368233.0                  0.049638\n",
      "1   Asia  1901.0                6386427.0                  0.056336\n",
      "2   Asia  1902.0                2108363.0                  0.058283\n",
      "3   Asia  1903.0                4504743.0                  0.062798\n",
      "4   Asia  1904.0                7070999.0                  0.070017\n"
     ]
    }
   ],
   "source": [
    "climate_data = pd.read_csv('oxford_climate_data')\n",
    "climate_data.drop(columns = 'Unnamed: 0', inplace = True)\n",
    "climate_data['Entity'].unique()\n",
    "print(climate_data.head())"
   ]
  },
  {
   "cell_type": "code",
   "execution_count": null,
   "id": "290a8887",
   "metadata": {},
   "outputs": [],
   "source": []
  }
 ],
 "metadata": {
  "kernelspec": {
   "display_name": "Altair-Intro",
   "language": "python",
   "name": "altair_intro"
  },
  "language_info": {
   "codemirror_mode": {
    "name": "ipython",
    "version": 3
   },
   "file_extension": ".py",
   "mimetype": "text/x-python",
   "name": "python",
   "nbconvert_exporter": "python",
   "pygments_lexer": "ipython3",
   "version": "3.9.6"
  }
 },
 "nbformat": 4,
 "nbformat_minor": 5
}
