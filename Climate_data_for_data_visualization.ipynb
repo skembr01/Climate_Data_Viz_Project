{
 "cells": [
  {
   "cell_type": "code",
   "execution_count": 1,
   "id": "b88f4740",
   "metadata": {},
   "outputs": [],
   "source": [
    "import pandas as pd\n",
    "import altair as alt\n",
    "\n",
    "#CO2 emission yearly change (metric tons)\n",
    "climate_data = pd.read_csv('absolute-change-co2.csv')\n",
    "climate_data = climate_data[climate_data['Year'] >= 1900]\n",
    "countries = ['Asia', 'China', 'Africa', 'Sweden', 'Australia', 'South America', 'Angola', 'India', 'New Zealand', 'United States', 'Europe', 'North America']\n",
    "country_dfs = []\n",
    "for i in range(len(countries)):\n",
    "    country_i = climate_data.loc[climate_data['Entity'] == countries[i]]\n",
    "    country_dfs.append(country_i)\n",
    "climate_data = pd.concat(country_dfs)\n",
    "climate_data.reset_index(inplace = True)\n",
    "climate_data.drop(columns = ['index', 'Code'], inplace = True)\n",
    "climate_data = climate_data.dropna()\n"
   ]
  },
  {
   "cell_type": "code",
   "execution_count": 2,
   "id": "5a9681b2",
   "metadata": {},
   "outputs": [],
   "source": [
    "#Yearly CO2 emissions per capita (metric tons)\n",
    "climate_per_capita = pd.read_csv('co-emissions-per-capita.csv')\n",
    "climate_per_capita = climate_per_capita[climate_per_capita['Year'] >= 1900]\n",
    "countries = ['Asia', 'China', 'Africa', 'Sweden', 'Australia', 'South America', 'Angola', 'India', 'New Zealand', 'United States', 'Europe', 'North America']\n",
    "country_dfs = []\n",
    "for i in range(len(countries)):\n",
    "    country_i = climate_per_capita.loc[climate_per_capita['Entity'] == countries[i]]\n",
    "    country_dfs.append(country_i)\n",
    "climate_per_capita = pd.concat(country_dfs)\n",
    "climate_per_capita.reset_index(inplace = True)\n",
    "climate_per_capita.drop(columns = ['index', 'Code'], inplace = True)\n",
    "\n",
    "#Combining two dfs into one and converting it into a csv \n",
    "per_cap_series = pd.Series(climate_per_capita['Per capita CO2 emissions'], name='Per capita CO2 emissions')\n",
    "total_data = pd.concat([climate_data, per_cap_series], axis=1)\n",
    "oxford_climate_data = total_data.to_csv(path_or_buf = '/Users/samuelembry/Downloads/oxford_climate_data')"
   ]
  },
  {
   "cell_type": "code",
   "execution_count": 5,
   "id": "9f856398",
   "metadata": {},
   "outputs": [],
   "source": [
    "#Reading in csv created above, might not need to create separate csv actually\n",
    "climate_data = pd.read_csv('oxford_climate_data')\n",
    "climate_data.drop(columns = 'Unnamed: 0', inplace = True)"
   ]
  },
  {
   "cell_type": "code",
   "execution_count": 8,
   "id": "290a8887",
   "metadata": {},
   "outputs": [
    {
     "data": {
      "text/html": [
       "<div>\n",
       "<style scoped>\n",
       "    .dataframe tbody tr th:only-of-type {\n",
       "        vertical-align: middle;\n",
       "    }\n",
       "\n",
       "    .dataframe tbody tr th {\n",
       "        vertical-align: top;\n",
       "    }\n",
       "\n",
       "    .dataframe thead th {\n",
       "        text-align: right;\n",
       "    }\n",
       "</style>\n",
       "<table border=\"1\" class=\"dataframe\">\n",
       "  <thead>\n",
       "    <tr style=\"text-align: right;\">\n",
       "      <th></th>\n",
       "      <th>Entity</th>\n",
       "      <th>Year</th>\n",
       "      <th>Median temperature anomaly from 1961-1990 average</th>\n",
       "      <th>Upper bound (95% CI)</th>\n",
       "      <th>Lower bound (95% CI)</th>\n",
       "    </tr>\n",
       "  </thead>\n",
       "  <tbody>\n",
       "    <tr>\n",
       "      <th>0</th>\n",
       "      <td>Global</td>\n",
       "      <td>1900</td>\n",
       "      <td>-0.203</td>\n",
       "      <td>-0.147</td>\n",
       "      <td>-0.272</td>\n",
       "    </tr>\n",
       "    <tr>\n",
       "      <th>1</th>\n",
       "      <td>Global</td>\n",
       "      <td>1901</td>\n",
       "      <td>-0.259</td>\n",
       "      <td>-0.208</td>\n",
       "      <td>-0.326</td>\n",
       "    </tr>\n",
       "    <tr>\n",
       "      <th>2</th>\n",
       "      <td>Global</td>\n",
       "      <td>1902</td>\n",
       "      <td>-0.402</td>\n",
       "      <td>-0.355</td>\n",
       "      <td>-0.461</td>\n",
       "    </tr>\n",
       "    <tr>\n",
       "      <th>3</th>\n",
       "      <td>Global</td>\n",
       "      <td>1903</td>\n",
       "      <td>-0.479</td>\n",
       "      <td>-0.431</td>\n",
       "      <td>-0.543</td>\n",
       "    </tr>\n",
       "    <tr>\n",
       "      <th>4</th>\n",
       "      <td>Global</td>\n",
       "      <td>1904</td>\n",
       "      <td>-0.520</td>\n",
       "      <td>-0.471</td>\n",
       "      <td>-0.580</td>\n",
       "    </tr>\n",
       "  </tbody>\n",
       "</table>\n",
       "</div>"
      ],
      "text/plain": [
       "   Entity  Year  Median temperature anomaly from 1961-1990 average  \\\n",
       "0  Global  1900                                             -0.203   \n",
       "1  Global  1901                                             -0.259   \n",
       "2  Global  1902                                             -0.402   \n",
       "3  Global  1903                                             -0.479   \n",
       "4  Global  1904                                             -0.520   \n",
       "\n",
       "   Upper bound (95% CI)  Lower bound (95% CI)  \n",
       "0                -0.147                -0.272  \n",
       "1                -0.208                -0.326  \n",
       "2                -0.355                -0.461  \n",
       "3                -0.431                -0.543  \n",
       "4                -0.471                -0.580  "
      ]
     },
     "execution_count": 8,
     "metadata": {},
     "output_type": "execute_result"
    }
   ],
   "source": [
    "#Global average temperature anomaly by year compared to 1961-1990 average global temp\n",
    "global_temp = pd.read_csv('temperature-anomaly.csv')\n",
    "global_temp = global_temp[global_temp['Year'] >= 1900]\n",
    "global_temp.reset_index(inplace = True)\n",
    "global_temp.drop(columns = ['index', 'Code'], inplace = True)\n",
    "global_temp.head()"
   ]
  },
  {
   "cell_type": "code",
   "execution_count": null,
   "id": "ab01fae7",
   "metadata": {},
   "outputs": [],
   "source": []
  }
 ],
 "metadata": {
  "kernelspec": {
   "display_name": "Altair-Intro",
   "language": "python",
   "name": "altair_intro"
  },
  "language_info": {
   "codemirror_mode": {
    "name": "ipython",
    "version": 3
   },
   "file_extension": ".py",
   "mimetype": "text/x-python",
   "name": "python",
   "nbconvert_exporter": "python",
   "pygments_lexer": "ipython3",
   "version": "3.9.6"
  }
 },
 "nbformat": 4,
 "nbformat_minor": 5
}
