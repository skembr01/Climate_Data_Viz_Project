{
 "cells": [
  {
   "cell_type": "code",
   "execution_count": 6,
   "id": "b88f4740",
   "metadata": {},
   "outputs": [
    {
     "data": {
      "text/html": [
       "<div>\n",
       "<style scoped>\n",
       "    .dataframe tbody tr th:only-of-type {\n",
       "        vertical-align: middle;\n",
       "    }\n",
       "\n",
       "    .dataframe tbody tr th {\n",
       "        vertical-align: top;\n",
       "    }\n",
       "\n",
       "    .dataframe thead th {\n",
       "        text-align: right;\n",
       "    }\n",
       "</style>\n",
       "<table border=\"1\" class=\"dataframe\">\n",
       "  <thead>\n",
       "    <tr style=\"text-align: right;\">\n",
       "      <th></th>\n",
       "      <th>Entity</th>\n",
       "      <th>Year</th>\n",
       "      <th>Annual CO2 growth (abs)</th>\n",
       "    </tr>\n",
       "  </thead>\n",
       "  <tbody>\n",
       "    <tr>\n",
       "      <th>0</th>\n",
       "      <td>Asia</td>\n",
       "      <td>1900</td>\n",
       "      <td>5368233.0</td>\n",
       "    </tr>\n",
       "    <tr>\n",
       "      <th>1</th>\n",
       "      <td>Asia</td>\n",
       "      <td>1901</td>\n",
       "      <td>6386427.0</td>\n",
       "    </tr>\n",
       "    <tr>\n",
       "      <th>2</th>\n",
       "      <td>Asia</td>\n",
       "      <td>1902</td>\n",
       "      <td>2108363.0</td>\n",
       "    </tr>\n",
       "    <tr>\n",
       "      <th>3</th>\n",
       "      <td>Asia</td>\n",
       "      <td>1903</td>\n",
       "      <td>4504743.0</td>\n",
       "    </tr>\n",
       "    <tr>\n",
       "      <th>4</th>\n",
       "      <td>Asia</td>\n",
       "      <td>1904</td>\n",
       "      <td>7070999.0</td>\n",
       "    </tr>\n",
       "  </tbody>\n",
       "</table>\n",
       "</div>"
      ],
      "text/plain": [
       "  Entity  Year  Annual CO2 growth (abs)\n",
       "0   Asia  1900                5368233.0\n",
       "1   Asia  1901                6386427.0\n",
       "2   Asia  1902                2108363.0\n",
       "3   Asia  1903                4504743.0\n",
       "4   Asia  1904                7070999.0"
      ]
     },
     "execution_count": 6,
     "metadata": {},
     "output_type": "execute_result"
    }
   ],
   "source": [
    "import pandas as pd\n",
    "import altair as alt\n",
    "\n",
    "#CO2 emission yearly change (metric tons)\n",
    "climate_data = pd.read_csv('absolute-change-co2.csv')\n",
    "climate_data = climate_data[climate_data['Year'] >= 1900]\n",
    "countries = ['Asia', 'China', 'Africa', 'Sweden', 'Australia', 'South America', 'Angola', 'India', 'New Zealand', 'United States', 'Europe', 'North America']\n",
    "country_dfs = []\n",
    "for i in range(len(countries)):\n",
    "    country_i = climate_data.loc[climate_data['Entity'] == countries[i]]\n",
    "    country_dfs.append(country_i)\n",
    "climate_data = pd.concat(country_dfs)\n",
    "climate_data.reset_index(inplace = True)\n",
    "climate_data.drop(columns = ['index', 'Code'], inplace = True)\n",
    "climate_data = climate_data.dropna()\n",
    "climate_data.head()"
   ]
  },
  {
   "cell_type": "code",
   "execution_count": 3,
   "id": "5a9681b2",
   "metadata": {},
   "outputs": [
    {
     "name": "stdout",
     "output_type": "stream",
     "text": [
      "  Entity    Year  Annual CO2 growth (abs)  Per capita CO2 emissions\n",
      "0   Asia  1900.0                5368233.0                  0.049638\n",
      "1   Asia  1901.0                6386427.0                  0.056336\n",
      "2   Asia  1902.0                2108363.0                  0.058283\n",
      "3   Asia  1903.0                4504743.0                  0.062798\n",
      "4   Asia  1904.0                7070999.0                  0.070017\n",
      "1388\n"
     ]
    }
   ],
   "source": [
    "#Yearly CO2 emissions per capita (metric tons)\n",
    "climate_per_capita = pd.read_csv('co-emissions-per-capita.csv')\n",
    "climate_per_capita = climate_per_capita[climate_per_capita['Year'] >= 1900]\n",
    "countries = ['Asia', 'China', 'Africa', 'Sweden', 'Australia', 'South America', 'Angola', 'India', 'New Zealand', 'United States', 'Europe', 'North America']\n",
    "country_dfs = []\n",
    "for i in range(len(countries)):\n",
    "    country_i = climate_per_capita.loc[climate_per_capita['Entity'] == countries[i]]\n",
    "    country_dfs.append(country_i)\n",
    "climate_per_capita = pd.concat(country_dfs)\n",
    "climate_per_capita.reset_index(inplace = True)\n",
    "climate_per_capita.drop(columns = ['index', 'Code'], inplace = True)\n",
    "\n",
    "#Combining two dfs into one and converting it into a csv \n",
    "per_cap_series = pd.Series(climate_per_capita['Per capita CO2 emissions'], name='Per capita CO2 emissions')\n",
    "total_data = pd.concat([climate_data, per_cap_series], axis=1)\n",
    "print(total_data.head())\n",
    "print(len(total_data))\n",
    "oxford_climate_data = total_data.to_csv(path_or_buf = '/Users/samuelembry/Downloads/oxford_climate_data')"
   ]
  },
  {
   "cell_type": "code",
   "execution_count": 4,
   "id": "9f856398",
   "metadata": {},
   "outputs": [],
   "source": [
    "#Reading in csv created above, might not need to create separate csv actually\n",
    "climate_data = pd.read_csv('oxford_climate_data')\n",
    "climate_data.drop(columns = 'Unnamed: 0', inplace = True)"
   ]
  },
  {
   "cell_type": "code",
   "execution_count": 5,
   "id": "290a8887",
   "metadata": {},
   "outputs": [
    {
     "data": {
      "text/html": [
       "<div>\n",
       "<style scoped>\n",
       "    .dataframe tbody tr th:only-of-type {\n",
       "        vertical-align: middle;\n",
       "    }\n",
       "\n",
       "    .dataframe tbody tr th {\n",
       "        vertical-align: top;\n",
       "    }\n",
       "\n",
       "    .dataframe thead th {\n",
       "        text-align: right;\n",
       "    }\n",
       "</style>\n",
       "<table border=\"1\" class=\"dataframe\">\n",
       "  <thead>\n",
       "    <tr style=\"text-align: right;\">\n",
       "      <th></th>\n",
       "      <th>Entity</th>\n",
       "      <th>Year</th>\n",
       "      <th>Median temperature anomaly from 1961-1990 average</th>\n",
       "      <th>Upper bound (95% CI)</th>\n",
       "      <th>Lower bound (95% CI)</th>\n",
       "    </tr>\n",
       "  </thead>\n",
       "  <tbody>\n",
       "    <tr>\n",
       "      <th>0</th>\n",
       "      <td>Global</td>\n",
       "      <td>1900</td>\n",
       "      <td>-0.203</td>\n",
       "      <td>-0.147</td>\n",
       "      <td>-0.272</td>\n",
       "    </tr>\n",
       "    <tr>\n",
       "      <th>1</th>\n",
       "      <td>Global</td>\n",
       "      <td>1901</td>\n",
       "      <td>-0.259</td>\n",
       "      <td>-0.208</td>\n",
       "      <td>-0.326</td>\n",
       "    </tr>\n",
       "    <tr>\n",
       "      <th>2</th>\n",
       "      <td>Global</td>\n",
       "      <td>1902</td>\n",
       "      <td>-0.402</td>\n",
       "      <td>-0.355</td>\n",
       "      <td>-0.461</td>\n",
       "    </tr>\n",
       "    <tr>\n",
       "      <th>3</th>\n",
       "      <td>Global</td>\n",
       "      <td>1903</td>\n",
       "      <td>-0.479</td>\n",
       "      <td>-0.431</td>\n",
       "      <td>-0.543</td>\n",
       "    </tr>\n",
       "    <tr>\n",
       "      <th>4</th>\n",
       "      <td>Global</td>\n",
       "      <td>1904</td>\n",
       "      <td>-0.520</td>\n",
       "      <td>-0.471</td>\n",
       "      <td>-0.580</td>\n",
       "    </tr>\n",
       "  </tbody>\n",
       "</table>\n",
       "</div>"
      ],
      "text/plain": [
       "   Entity  Year  Median temperature anomaly from 1961-1990 average  \\\n",
       "0  Global  1900                                             -0.203   \n",
       "1  Global  1901                                             -0.259   \n",
       "2  Global  1902                                             -0.402   \n",
       "3  Global  1903                                             -0.479   \n",
       "4  Global  1904                                             -0.520   \n",
       "\n",
       "   Upper bound (95% CI)  Lower bound (95% CI)  \n",
       "0                -0.147                -0.272  \n",
       "1                -0.208                -0.326  \n",
       "2                -0.355                -0.461  \n",
       "3                -0.431                -0.543  \n",
       "4                -0.471                -0.580  "
      ]
     },
     "execution_count": 5,
     "metadata": {},
     "output_type": "execute_result"
    }
   ],
   "source": [
    "#Global average temperature anomaly by year compared to 1961-1990 average global temp\n",
    "global_temp = pd.read_csv('temperature-anomaly.csv')\n",
    "global_temp = global_temp[global_temp['Year'] >= 1900]\n",
    "global_temp.reset_index(inplace = True)\n",
    "global_temp.drop(columns = ['index', 'Code'], inplace = True)\n",
    "global_temp.head()"
   ]
  },
  {
   "cell_type": "code",
   "execution_count": 15,
   "id": "ab01fae7",
   "metadata": {},
   "outputs": [
    {
     "ename": "SchemaValidationError",
     "evalue": "Invalid specification\n\n        altair.vegalite.v4.schema.core.Axis, validating 'additionalProperties'\n\n        Additional properties are not allowed ('comma' was unexpected)\n        ",
     "output_type": "error",
     "traceback": [
      "\u001b[0;31m---------------------------------------------------------------------------\u001b[0m",
      "\u001b[0;31mSchemaValidationError\u001b[0m                     Traceback (most recent call last)",
      "\u001b[0;32m/var/folders/4q/20v73q1n3h5_c1crn5_9wnfm0000gn/T/ipykernel_71232/704400845.py\u001b[0m in \u001b[0;36m<module>\u001b[0;34m\u001b[0m\n\u001b[1;32m     13\u001b[0m \u001b[0mlife_expect\u001b[0m\u001b[0;34m.\u001b[0m\u001b[0mhead\u001b[0m\u001b[0;34m(\u001b[0m\u001b[0;34m)\u001b[0m\u001b[0;34m\u001b[0m\u001b[0;34m\u001b[0m\u001b[0m\n\u001b[1;32m     14\u001b[0m alt.Chart(life_expect).mark_line().encode(\n\u001b[0;32m---> 15\u001b[0;31m     \u001b[0mx\u001b[0m \u001b[0;34m=\u001b[0m \u001b[0malt\u001b[0m\u001b[0;34m.\u001b[0m\u001b[0mX\u001b[0m\u001b[0;34m(\u001b[0m\u001b[0;34m'Year'\u001b[0m\u001b[0;34m,\u001b[0m \u001b[0maxis\u001b[0m \u001b[0;34m=\u001b[0m \u001b[0malt\u001b[0m\u001b[0;34m.\u001b[0m\u001b[0mAxis\u001b[0m\u001b[0;34m(\u001b[0m\u001b[0mcomma\u001b[0m\u001b[0;34m=\u001b[0m\u001b[0;32mFalse\u001b[0m\u001b[0;34m)\u001b[0m\u001b[0;34m)\u001b[0m\u001b[0;34m,\u001b[0m\u001b[0;34m\u001b[0m\u001b[0;34m\u001b[0m\u001b[0m\n\u001b[0m\u001b[1;32m     16\u001b[0m     \u001b[0my\u001b[0m \u001b[0;34m=\u001b[0m \u001b[0;34m'Life expectancy'\u001b[0m\u001b[0;34m,\u001b[0m\u001b[0;34m\u001b[0m\u001b[0;34m\u001b[0m\u001b[0m\n\u001b[1;32m     17\u001b[0m     color = alt.Color('Entity', scale = alt.Scale(scheme = 'spectral')))\n",
      "\u001b[0;32m~/opt/miniconda3/envs/altair_intro/lib/python3.9/site-packages/altair/vegalite/v4/schema/core.py\u001b[0m in \u001b[0;36m__init__\u001b[0;34m(self, bandPosition, domain, domainColor, domainDash, domainDashOffset, domainOpacity, domainWidth, format, formatType, grid, gridColor, gridDash, gridDashOffset, gridOpacity, gridWidth, labelAlign, labelAngle, labelBaseline, labelBound, labelColor, labelExpr, labelFlush, labelFlushOffset, labelFont, labelFontSize, labelFontStyle, labelFontWeight, labelLimit, labelLineHeight, labelOffset, labelOpacity, labelOverlap, labelPadding, labelSeparation, labels, maxExtent, minExtent, offset, orient, position, style, tickBand, tickColor, tickCount, tickDash, tickDashOffset, tickExtra, tickMinStep, tickOffset, tickOpacity, tickRound, tickSize, tickWidth, ticks, title, titleAlign, titleAnchor, titleAngle, titleBaseline, titleColor, titleFont, titleFontSize, titleFontStyle, titleFontWeight, titleLimit, titleLineHeight, titleOpacity, titlePadding, titleX, titleY, translate, values, zindex, **kwds)\u001b[0m\n\u001b[1;32m    902\u001b[0m                  \u001b[0mtitlePadding\u001b[0m\u001b[0;34m=\u001b[0m\u001b[0mUndefined\u001b[0m\u001b[0;34m,\u001b[0m \u001b[0mtitleX\u001b[0m\u001b[0;34m=\u001b[0m\u001b[0mUndefined\u001b[0m\u001b[0;34m,\u001b[0m \u001b[0mtitleY\u001b[0m\u001b[0;34m=\u001b[0m\u001b[0mUndefined\u001b[0m\u001b[0;34m,\u001b[0m \u001b[0mtranslate\u001b[0m\u001b[0;34m=\u001b[0m\u001b[0mUndefined\u001b[0m\u001b[0;34m,\u001b[0m\u001b[0;34m\u001b[0m\u001b[0;34m\u001b[0m\u001b[0m\n\u001b[1;32m    903\u001b[0m                  values=Undefined, zindex=Undefined, **kwds):\n\u001b[0;32m--> 904\u001b[0;31m         super(Axis, self).__init__(bandPosition=bandPosition, domain=domain, domainColor=domainColor,\n\u001b[0m\u001b[1;32m    905\u001b[0m                                    \u001b[0mdomainDash\u001b[0m\u001b[0;34m=\u001b[0m\u001b[0mdomainDash\u001b[0m\u001b[0;34m,\u001b[0m \u001b[0mdomainDashOffset\u001b[0m\u001b[0;34m=\u001b[0m\u001b[0mdomainDashOffset\u001b[0m\u001b[0;34m,\u001b[0m\u001b[0;34m\u001b[0m\u001b[0;34m\u001b[0m\u001b[0m\n\u001b[1;32m    906\u001b[0m                                    \u001b[0mdomainOpacity\u001b[0m\u001b[0;34m=\u001b[0m\u001b[0mdomainOpacity\u001b[0m\u001b[0;34m,\u001b[0m \u001b[0mdomainWidth\u001b[0m\u001b[0;34m=\u001b[0m\u001b[0mdomainWidth\u001b[0m\u001b[0;34m,\u001b[0m \u001b[0mformat\u001b[0m\u001b[0;34m=\u001b[0m\u001b[0mformat\u001b[0m\u001b[0;34m,\u001b[0m\u001b[0;34m\u001b[0m\u001b[0;34m\u001b[0m\u001b[0m\n",
      "\u001b[0;32m~/opt/miniconda3/envs/altair_intro/lib/python3.9/site-packages/altair/utils/schemapi.py\u001b[0m in \u001b[0;36m__init__\u001b[0;34m(self, *args, **kwds)\u001b[0m\n\u001b[1;32m    174\u001b[0m \u001b[0;34m\u001b[0m\u001b[0m\n\u001b[1;32m    175\u001b[0m         \u001b[0;32mif\u001b[0m \u001b[0mDEBUG_MODE\u001b[0m \u001b[0;32mand\u001b[0m \u001b[0mself\u001b[0m\u001b[0;34m.\u001b[0m\u001b[0m_class_is_valid_at_instantiation\u001b[0m\u001b[0;34m:\u001b[0m\u001b[0;34m\u001b[0m\u001b[0;34m\u001b[0m\u001b[0m\n\u001b[0;32m--> 176\u001b[0;31m             \u001b[0mself\u001b[0m\u001b[0;34m.\u001b[0m\u001b[0mto_dict\u001b[0m\u001b[0;34m(\u001b[0m\u001b[0mvalidate\u001b[0m\u001b[0;34m=\u001b[0m\u001b[0;32mTrue\u001b[0m\u001b[0;34m)\u001b[0m\u001b[0;34m\u001b[0m\u001b[0;34m\u001b[0m\u001b[0m\n\u001b[0m\u001b[1;32m    177\u001b[0m \u001b[0;34m\u001b[0m\u001b[0m\n\u001b[1;32m    178\u001b[0m     \u001b[0;32mdef\u001b[0m \u001b[0mcopy\u001b[0m\u001b[0;34m(\u001b[0m\u001b[0mself\u001b[0m\u001b[0;34m,\u001b[0m \u001b[0mdeep\u001b[0m\u001b[0;34m=\u001b[0m\u001b[0;32mTrue\u001b[0m\u001b[0;34m,\u001b[0m \u001b[0mignore\u001b[0m\u001b[0;34m=\u001b[0m\u001b[0;34m(\u001b[0m\u001b[0;34m)\u001b[0m\u001b[0;34m)\u001b[0m\u001b[0;34m:\u001b[0m\u001b[0;34m\u001b[0m\u001b[0;34m\u001b[0m\u001b[0m\n",
      "\u001b[0;32m~/opt/miniconda3/envs/altair_intro/lib/python3.9/site-packages/altair/utils/schemapi.py\u001b[0m in \u001b[0;36mto_dict\u001b[0;34m(self, validate, ignore, context)\u001b[0m\n\u001b[1;32m    337\u001b[0m                 \u001b[0mself\u001b[0m\u001b[0;34m.\u001b[0m\u001b[0mvalidate\u001b[0m\u001b[0;34m(\u001b[0m\u001b[0mresult\u001b[0m\u001b[0;34m)\u001b[0m\u001b[0;34m\u001b[0m\u001b[0;34m\u001b[0m\u001b[0m\n\u001b[1;32m    338\u001b[0m             \u001b[0;32mexcept\u001b[0m \u001b[0mjsonschema\u001b[0m\u001b[0;34m.\u001b[0m\u001b[0mValidationError\u001b[0m \u001b[0;32mas\u001b[0m \u001b[0merr\u001b[0m\u001b[0;34m:\u001b[0m\u001b[0;34m\u001b[0m\u001b[0;34m\u001b[0m\u001b[0m\n\u001b[0;32m--> 339\u001b[0;31m                 \u001b[0;32mraise\u001b[0m \u001b[0mSchemaValidationError\u001b[0m\u001b[0;34m(\u001b[0m\u001b[0mself\u001b[0m\u001b[0;34m,\u001b[0m \u001b[0merr\u001b[0m\u001b[0;34m)\u001b[0m\u001b[0;34m\u001b[0m\u001b[0;34m\u001b[0m\u001b[0m\n\u001b[0m\u001b[1;32m    340\u001b[0m         \u001b[0;32mreturn\u001b[0m \u001b[0mresult\u001b[0m\u001b[0;34m\u001b[0m\u001b[0;34m\u001b[0m\u001b[0m\n\u001b[1;32m    341\u001b[0m \u001b[0;34m\u001b[0m\u001b[0m\n",
      "\u001b[0;31mSchemaValidationError\u001b[0m: Invalid specification\n\n        altair.vegalite.v4.schema.core.Axis, validating 'additionalProperties'\n\n        Additional properties are not allowed ('comma' was unexpected)\n        "
     ]
    }
   ],
   "source": [
    "#Adding in global life expectancy values\n",
    "life_expect = pd.read_csv('life-expectancy.csv')\n",
    "life_expect = life_expect[life_expect['Year'] >= 1900]\n",
    "countries = ['Asia', 'China', 'Africa', 'Sweden', 'Australia', 'South America', 'Angola', 'India', 'New Zealand', 'United States', 'Europe', 'North America']\n",
    "country_dfs = []\n",
    "for i in range(len(countries)):\n",
    "    country_i = life_expect.loc[life_expect['Entity'] == countries[i]]\n",
    "    country_dfs.append(country_i)\n",
    "life_expect = pd.concat(country_dfs)\n",
    "life_expect.reset_index(inplace = True)\n",
    "life_expect.drop(columns = ['index', 'Code'], inplace = True)\n",
    "life_expect = life_expect.dropna()\n",
    "life_expect.head()\n",
    "alt.Chart(life_expect).mark_line().encode(\n",
    "    x = alt.X('Year', axis = alt.Axis(comma=False)),\n",
    "    y = 'Life expectancy',\n",
    "    color = alt.Color('Entity', scale = alt.Scale(scheme = 'spectral')))"
   ]
  },
  {
   "cell_type": "code",
   "execution_count": null,
   "id": "043aea2b",
   "metadata": {},
   "outputs": [],
   "source": []
  }
 ],
 "metadata": {
  "kernelspec": {
   "display_name": "Altair-Intro",
   "language": "python",
   "name": "altair_intro"
  },
  "language_info": {
   "codemirror_mode": {
    "name": "ipython",
    "version": 3
   },
   "file_extension": ".py",
   "mimetype": "text/x-python",
   "name": "python",
   "nbconvert_exporter": "python",
   "pygments_lexer": "ipython3",
   "version": "3.9.6"
  }
 },
 "nbformat": 4,
 "nbformat_minor": 5
}
